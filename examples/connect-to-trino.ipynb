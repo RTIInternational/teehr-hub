{
 "cells": [
  {
   "cell_type": "code",
   "execution_count": 1,
   "id": "4faa4446-eb2c-4968-a4e4-72e141f6d45a",
   "metadata": {},
   "outputs": [
    {
     "name": "stdout",
     "output_type": "stream",
     "text": [
      "Collecting trino\n",
      "  Downloading trino-0.336.0-py3-none-any.whl.metadata (20 kB)\n",
      "Requirement already satisfied: lz4 in /srv/conda/envs/notebook/lib/python3.12/site-packages (from trino) (4.4.4)\n",
      "Collecting orjson>=3.11.0 (from trino)\n",
      "  Downloading orjson-3.11.3-cp312-cp312-manylinux_2_17_aarch64.manylinux2014_aarch64.whl.metadata (41 kB)\n",
      "Requirement already satisfied: python-dateutil in /srv/conda/envs/notebook/lib/python3.12/site-packages (from trino) (2.9.0.post0)\n",
      "Requirement already satisfied: pytz in /srv/conda/envs/notebook/lib/python3.12/site-packages (from trino) (2025.2)\n",
      "Requirement already satisfied: requests>=2.32.4 in /srv/conda/envs/notebook/lib/python3.12/site-packages (from trino) (2.32.4)\n",
      "Collecting tzlocal (from trino)\n",
      "  Downloading tzlocal-5.3.1-py3-none-any.whl.metadata (7.6 kB)\n",
      "Requirement already satisfied: zstandard in /srv/conda/envs/notebook/lib/python3.12/site-packages (from trino) (0.23.0)\n",
      "Requirement already satisfied: charset_normalizer<4,>=2 in /srv/conda/envs/notebook/lib/python3.12/site-packages (from requests>=2.32.4->trino) (3.4.2)\n",
      "Requirement already satisfied: idna<4,>=2.5 in /srv/conda/envs/notebook/lib/python3.12/site-packages (from requests>=2.32.4->trino) (3.10)\n",
      "Requirement already satisfied: urllib3<3,>=1.21.1 in /srv/conda/envs/notebook/lib/python3.12/site-packages (from requests>=2.32.4->trino) (2.5.0)\n",
      "Requirement already satisfied: certifi>=2017.4.17 in /srv/conda/envs/notebook/lib/python3.12/site-packages (from requests>=2.32.4->trino) (2025.10.5)\n",
      "Requirement already satisfied: six>=1.5 in /srv/conda/envs/notebook/lib/python3.12/site-packages (from python-dateutil->trino) (1.17.0)\n",
      "Downloading trino-0.336.0-py3-none-any.whl (57 kB)\n",
      "Downloading orjson-3.11.3-cp312-cp312-manylinux_2_17_aarch64.manylinux2014_aarch64.whl (123 kB)\n",
      "Downloading tzlocal-5.3.1-py3-none-any.whl (18 kB)\n",
      "Installing collected packages: tzlocal, orjson, trino\n",
      "\u001b[2K   \u001b[90m━━━━━━━━━━━━━━━━━━━━━━━━━━━━━━━━━━━━━━━━\u001b[0m \u001b[32m3/3\u001b[0m [trino]\n",
      "\u001b[1A\u001b[2KSuccessfully installed orjson-3.11.3 trino-0.336.0 tzlocal-5.3.1\n"
     ]
    }
   ],
   "source": [
    "!pip install trino"
   ]
  },
  {
   "cell_type": "code",
   "execution_count": 2,
   "id": "4512936f-0e64-4837-81c2-64255ef833ea",
   "metadata": {},
   "outputs": [],
   "source": [
    "from trino.dbapi import connect"
   ]
  },
  {
   "cell_type": "code",
   "execution_count": 7,
   "id": "8052aa6c-1e66-4a92-b3cb-ec014e544d54",
   "metadata": {},
   "outputs": [],
   "source": [
    "# Trino connection configuration\n",
    "conn = connect(\n",
    "    host='trino',\n",
    "    user='teehr',\n",
    "    catalog='iceberg',\n",
    "    schema='teehr',\n",
    "    http_scheme='http',\n",
    "    # For production, add authentication:\n",
    "    # auth=BasicAuthentication(\"username\", \"password\")\n",
    ")"
   ]
  },
  {
   "cell_type": "code",
   "execution_count": 8,
   "id": "34fb49b1-bf7a-4114-acb9-4fedb5510be6",
   "metadata": {},
   "outputs": [
    {
     "name": "stderr",
     "output_type": "stream",
     "text": [
      "/tmp/ipykernel_113/4175621912.py:3: UserWarning: pandas only supports SQLAlchemy connectable (engine/connection) or database string URI or sqlite3 DBAPI2 connection. Other DBAPI2 objects are not tested. Please consider using SQLAlchemy.\n",
      "  df = pd.read_sql(sql, conn)\n"
     ]
    }
   ],
   "source": [
    "import pandas as pd\n",
    "sql = \"SELECT * from iceberg.teehr.sample\"\n",
    "df = pd.read_sql(sql, conn)"
   ]
  },
  {
   "cell_type": "code",
   "execution_count": 9,
   "id": "c058f436-9383-43cb-aa5c-00c56ab4ccf3",
   "metadata": {},
   "outputs": [
    {
     "data": {
      "text/html": [
       "<div>\n",
       "<style scoped>\n",
       "    .dataframe tbody tr th:only-of-type {\n",
       "        vertical-align: middle;\n",
       "    }\n",
       "\n",
       "    .dataframe tbody tr th {\n",
       "        vertical-align: top;\n",
       "    }\n",
       "\n",
       "    .dataframe thead th {\n",
       "        text-align: right;\n",
       "    }\n",
       "</style>\n",
       "<table border=\"1\" class=\"dataframe\">\n",
       "  <thead>\n",
       "    <tr style=\"text-align: right;\">\n",
       "      <th></th>\n",
       "      <th>id</th>\n",
       "      <th>name</th>\n",
       "      <th>value</th>\n",
       "      <th>value_rounded</th>\n",
       "      <th>category</th>\n",
       "    </tr>\n",
       "  </thead>\n",
       "  <tbody>\n",
       "    <tr>\n",
       "      <th>0</th>\n",
       "      <td>750</td>\n",
       "      <td>name_750</td>\n",
       "      <td>81.155660</td>\n",
       "      <td>81.16</td>\n",
       "      <td>high</td>\n",
       "    </tr>\n",
       "    <tr>\n",
       "      <th>1</th>\n",
       "      <td>751</td>\n",
       "      <td>name_751</td>\n",
       "      <td>85.225958</td>\n",
       "      <td>85.23</td>\n",
       "      <td>high</td>\n",
       "    </tr>\n",
       "    <tr>\n",
       "      <th>2</th>\n",
       "      <td>752</td>\n",
       "      <td>name_752</td>\n",
       "      <td>58.971393</td>\n",
       "      <td>58.97</td>\n",
       "      <td>medium</td>\n",
       "    </tr>\n",
       "    <tr>\n",
       "      <th>3</th>\n",
       "      <td>753</td>\n",
       "      <td>name_753</td>\n",
       "      <td>67.773620</td>\n",
       "      <td>67.77</td>\n",
       "      <td>medium</td>\n",
       "    </tr>\n",
       "    <tr>\n",
       "      <th>4</th>\n",
       "      <td>754</td>\n",
       "      <td>name_754</td>\n",
       "      <td>28.315013</td>\n",
       "      <td>28.32</td>\n",
       "      <td>low</td>\n",
       "    </tr>\n",
       "    <tr>\n",
       "      <th>...</th>\n",
       "      <td>...</td>\n",
       "      <td>...</td>\n",
       "      <td>...</td>\n",
       "      <td>...</td>\n",
       "      <td>...</td>\n",
       "    </tr>\n",
       "    <tr>\n",
       "      <th>95</th>\n",
       "      <td>845</td>\n",
       "      <td>name_845</td>\n",
       "      <td>87.931824</td>\n",
       "      <td>87.93</td>\n",
       "      <td>high</td>\n",
       "    </tr>\n",
       "    <tr>\n",
       "      <th>96</th>\n",
       "      <td>846</td>\n",
       "      <td>name_846</td>\n",
       "      <td>47.281422</td>\n",
       "      <td>47.28</td>\n",
       "      <td>medium</td>\n",
       "    </tr>\n",
       "    <tr>\n",
       "      <th>97</th>\n",
       "      <td>847</td>\n",
       "      <td>name_847</td>\n",
       "      <td>88.105569</td>\n",
       "      <td>88.11</td>\n",
       "      <td>high</td>\n",
       "    </tr>\n",
       "    <tr>\n",
       "      <th>98</th>\n",
       "      <td>848</td>\n",
       "      <td>name_848</td>\n",
       "      <td>89.328458</td>\n",
       "      <td>89.33</td>\n",
       "      <td>high</td>\n",
       "    </tr>\n",
       "    <tr>\n",
       "      <th>99</th>\n",
       "      <td>849</td>\n",
       "      <td>name_849</td>\n",
       "      <td>80.607109</td>\n",
       "      <td>80.61</td>\n",
       "      <td>high</td>\n",
       "    </tr>\n",
       "  </tbody>\n",
       "</table>\n",
       "<p>100 rows × 5 columns</p>\n",
       "</div>"
      ],
      "text/plain": [
       "     id      name      value  value_rounded category\n",
       "0   750  name_750  81.155660          81.16     high\n",
       "1   751  name_751  85.225958          85.23     high\n",
       "2   752  name_752  58.971393          58.97   medium\n",
       "3   753  name_753  67.773620          67.77   medium\n",
       "4   754  name_754  28.315013          28.32      low\n",
       "..  ...       ...        ...            ...      ...\n",
       "95  845  name_845  87.931824          87.93     high\n",
       "96  846  name_846  47.281422          47.28   medium\n",
       "97  847  name_847  88.105569          88.11     high\n",
       "98  848  name_848  89.328458          89.33     high\n",
       "99  849  name_849  80.607109          80.61     high\n",
       "\n",
       "[100 rows x 5 columns]"
      ]
     },
     "execution_count": 9,
     "metadata": {},
     "output_type": "execute_result"
    }
   ],
   "source": [
    "df"
   ]
  },
  {
   "cell_type": "code",
   "execution_count": null,
   "id": "4f3a240b-c39d-4205-bdd2-7ddf9edb604a",
   "metadata": {},
   "outputs": [],
   "source": []
  }
 ],
 "metadata": {
  "kernelspec": {
   "display_name": "Python 3 (ipykernel)",
   "language": "python",
   "name": "python3"
  },
  "language_info": {
   "codemirror_mode": {
    "name": "ipython",
    "version": 3
   },
   "file_extension": ".py",
   "mimetype": "text/x-python",
   "name": "python",
   "nbconvert_exporter": "python",
   "pygments_lexer": "ipython3",
   "version": "3.12.11"
  }
 },
 "nbformat": 4,
 "nbformat_minor": 5
}

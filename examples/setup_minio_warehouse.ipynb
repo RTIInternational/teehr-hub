{
 "cells": [
  {
   "cell_type": "code",
   "execution_count": null,
   "id": "f69ca5b0-9685-418c-9845-4230db2fd766",
   "metadata": {},
   "outputs": [],
   "source": [
    "import os\n",
    "from pathlib import Path\n",
    "import shutil\n",
    "\n",
    "import teehr\n",
    "\n",
    "from teehr.evaluation.spark_session_utils import create_spark_session"
   ]
  },
  {
   "cell_type": "code",
   "execution_count": null,
   "id": "dfdd6faa-f91d-4e89-80bd-df0d534a7493",
   "metadata": {},
   "outputs": [],
   "source": [
    "spark = create_spark_session(\n",
    "    aws_access_key_id=\"minioadmin\",\n",
    "    aws_secret_access_key=\"minioadmin123\"\n",
    ")"
   ]
  },
  {
   "cell_type": "code",
   "execution_count": null,
   "id": "e16cead2-cf95-412e-85da-1cd7ffaa97cd",
   "metadata": {},
   "outputs": [],
   "source": [
    "%%time\n",
    "dir_path = \"/data/temp_warehouse\"\n",
    "\n",
    "shutil.rmtree(dir_path, ignore_errors=True)\n",
    "\n",
    "ev = teehr.Evaluation(\n",
    "    spark=spark,\n",
    "    dir_path=dir_path,\n",
    "    create_dir=True\n",
    ")"
   ]
  },
  {
   "cell_type": "code",
   "execution_count": null,
   "id": "5c9db237",
   "metadata": {},
   "outputs": [],
   "source": [
    "# Copy local template\n",
    "ev.clone_template()"
   ]
  },
  {
   "cell_type": "code",
   "execution_count": null,
   "id": "c4cd4bc6-3f0c-4523-a839-4539c1266cf2",
   "metadata": {},
   "outputs": [],
   "source": [
    "ev.apply_schema_migration()"
   ]
  },
  {
   "cell_type": "code",
   "execution_count": null,
   "id": "331a341a-1355-4bbf-a817-773e4a697569",
   "metadata": {},
   "outputs": [],
   "source": [
    "ev.set_active_catalog(\"remote\")\n",
    "\n",
    "ev.active_catalog"
   ]
  },
  {
   "cell_type": "markdown",
   "id": "bfeb1cf4-a95c-445e-9639-72fe94cafd9b",
   "metadata": {},
   "source": [
    "#### Attributes"
   ]
  },
  {
   "cell_type": "code",
   "execution_count": null,
   "id": "e1f6ab6b-50f3-4ed9-b4b7-b60ff9f96879",
   "metadata": {},
   "outputs": [],
   "source": [
    "options = {\n",
    "    \"header\": \"true\",\n",
    "    \"ignoreMissingFiles\": \"true\"\n",
    "}\n",
    "\n",
    "tbl = ev.attributes()\n",
    "schema = tbl.schema_func().to_structtype()\n",
    "s3_dirpath = \"s3a://ciroh-rti-public-data/teehr-data-warehouse/v0_4_evaluations/e3_usgs_hourly_streamflow/dataset/attributes/\"\n",
    "\n",
    "sdf = spark.read.format(\"csv\").options(**options).load(s3_dirpath, schema=schema) "
   ]
  },
  {
   "cell_type": "code",
   "execution_count": null,
   "id": "b80e42d5-f92e-406e-8215-aa43fedc7229",
   "metadata": {},
   "outputs": [],
   "source": [
    "ev.write.to_warehouse(table_name=\"attributes\", source_data=sdf)"
   ]
  },
  {
   "cell_type": "markdown",
   "id": "8c6547f7-d4e5-4cdf-96a8-488fbfda0007",
   "metadata": {},
   "source": [
    "#### Locations"
   ]
  },
  {
   "cell_type": "code",
   "execution_count": null,
   "id": "1ca823e1-7dae-4193-b4eb-8da6201eac80",
   "metadata": {},
   "outputs": [],
   "source": [
    "tbl = ev.locations()\n",
    "schema = tbl.schema_func().to_structtype()\n",
    "s3_dirpath = \"s3a://ciroh-rti-public-data/teehr-data-warehouse/v0_4_evaluations/e3_usgs_hourly_streamflow/dataset/locations/\"\n",
    "\n",
    "sdf = spark.read.format(\"parquet\").options(**options).load(s3_dirpath, schema=schema) "
   ]
  },
  {
   "cell_type": "code",
   "execution_count": null,
   "id": "5a4410a8-9c87-42da-af3e-31480e3c1592",
   "metadata": {},
   "outputs": [],
   "source": [
    "df = sdf.toPandas()"
   ]
  },
  {
   "cell_type": "code",
   "execution_count": null,
   "id": "353db345-d917-4ddd-b85e-b292a17f8e7e",
   "metadata": {},
   "outputs": [],
   "source": [
    "# Handpicked sites that seemed interesting\n",
    "usgs_gages = [\n",
    "    \"usgs-02424000\",\n",
    "    \"usgs-03068800\",\n",
    "    \"usgs-01570500\",\n",
    "    \"usgs-01347000\",\n",
    "    \"usgs-05443500\",\n",
    "    \"usgs-06770500\",\n",
    "    \"usgs-08313000\",\n",
    "    \"usgs-11421000\",\n",
    "    \"usgs-14319500\"\n",
    "]"
   ]
  },
  {
   "cell_type": "code",
   "execution_count": null,
   "id": "73895851-4e08-457b-a083-da9091911aeb",
   "metadata": {},
   "outputs": [],
   "source": [
    "locs_df = df[df[\"id\"].isin(usgs_gages)]"
   ]
  },
  {
   "cell_type": "code",
   "execution_count": null,
   "id": "6c7538a7-ce0e-4263-8c33-7f744c596ed8",
   "metadata": {},
   "outputs": [],
   "source": [
    "ev.write.to_warehouse(table_name=\"locations\", source_data=locs_df)"
   ]
  },
  {
   "cell_type": "markdown",
   "id": "daf09cdd-5b7e-469f-ac8c-baca2825e2b9",
   "metadata": {},
   "source": [
    "#### Location attributes"
   ]
  },
  {
   "cell_type": "code",
   "execution_count": null,
   "id": "303a6517-9c3a-4d40-ab17-0f72cd623075",
   "metadata": {},
   "outputs": [],
   "source": [
    "tbl = ev.location_attributes()\n",
    "schema = tbl.schema_func().to_structtype()\n",
    "s3_dirpath = \"s3a://ciroh-rti-public-data/teehr-data-warehouse/v0_4_evaluations/e3_usgs_hourly_streamflow/dataset/location_attributes/\"\n",
    "\n",
    "sdf = spark.read.format(\"parquet\").options(**options).load(s3_dirpath, schema=schema) "
   ]
  },
  {
   "cell_type": "code",
   "execution_count": null,
   "id": "9d374300-871b-4bc4-85ec-b64564761011",
   "metadata": {},
   "outputs": [],
   "source": [
    "sdf = sdf.filter(sdf.location_id.isin(usgs_gages))"
   ]
  },
  {
   "cell_type": "code",
   "execution_count": null,
   "id": "162a0933-9179-4fe9-8d23-837f4a568ab1",
   "metadata": {},
   "outputs": [],
   "source": [
    "ev.write.to_warehouse(table_name=\"location_attributes\", source_data=sdf)"
   ]
  },
  {
   "cell_type": "markdown",
   "id": "c9e16f4b-4992-49cd-8ee3-9849dc86c341",
   "metadata": {},
   "source": [
    "#### Location crosswalks"
   ]
  },
  {
   "cell_type": "code",
   "execution_count": null,
   "id": "a0d3b3f5-71c3-4d54-a663-5fc122d49e02",
   "metadata": {},
   "outputs": [],
   "source": [
    "tbl = ev.location_crosswalks()\n",
    "schema = tbl.schema_func().to_structtype()\n",
    "s3_dirpath = \"s3a://ciroh-rti-public-data/teehr-data-warehouse/v0_4_evaluations/e3_usgs_hourly_streamflow/dataset/location_crosswalks/\"\n",
    "\n",
    "sdf = spark.read.format(\"parquet\").options(**options).load(s3_dirpath, schema=schema) "
   ]
  },
  {
   "cell_type": "code",
   "execution_count": null,
   "id": "0d4f370d-86b9-4f58-8976-c90f56e7824a",
   "metadata": {},
   "outputs": [],
   "source": [
    "sdf = sdf.filter(sdf.primary_location_id.isin(usgs_gages))"
   ]
  },
  {
   "cell_type": "code",
   "execution_count": null,
   "id": "ab8f9d54-ed4b-4ab0-bacc-2c94640f8298",
   "metadata": {},
   "outputs": [],
   "source": [
    "ev.write.to_warehouse(table_name=\"location_crosswalks\", source_data=sdf)"
   ]
  },
  {
   "cell_type": "markdown",
   "id": "24afef2d-7879-43a3-93ae-94cb4864427c",
   "metadata": {},
   "source": [
    "#### Units"
   ]
  },
  {
   "cell_type": "code",
   "execution_count": null,
   "id": "a07f8906-5b6c-4caf-a395-dfaf776bd07e",
   "metadata": {},
   "outputs": [],
   "source": [
    "tbl = ev.units()\n",
    "schema = tbl.schema_func().to_structtype()\n",
    "s3_dirpath = \"s3a://ciroh-rti-public-data/teehr-data-warehouse/v0_4_evaluations/e3_usgs_hourly_streamflow/dataset/units/\"\n",
    "\n",
    "sdf = spark.read.format(\"csv\").options(**options).load(s3_dirpath, schema=schema) \n",
    "\n",
    "ev.write.to_warehouse(table_name=\"units\", source_data=sdf)"
   ]
  },
  {
   "cell_type": "markdown",
   "id": "c9cd5395-6b92-4fba-91f9-54ee79814aeb",
   "metadata": {},
   "source": [
    "#### Variables"
   ]
  },
  {
   "cell_type": "code",
   "execution_count": null,
   "id": "8f230fb1-1a32-465b-8482-72d4ce460792",
   "metadata": {},
   "outputs": [],
   "source": [
    "tbl = ev.variables()\n",
    "schema = tbl.schema_func().to_structtype()\n",
    "s3_dirpath = \"s3a://ciroh-rti-public-data/teehr-data-warehouse/v0_4_evaluations/e3_usgs_hourly_streamflow/dataset/variables/\"\n",
    "\n",
    "sdf = spark.read.format(\"csv\").options(**options).load(s3_dirpath, schema=schema) \n",
    "\n",
    "ev.write.to_warehouse(table_name=\"variables\", source_data=sdf)"
   ]
  },
  {
   "cell_type": "markdown",
   "id": "50de0c40-b5b2-44d8-a5e5-3a5357fdfddf",
   "metadata": {},
   "source": [
    "#### Configurations"
   ]
  },
  {
   "cell_type": "code",
   "execution_count": null,
   "id": "9087acb8-212f-4a0b-8924-8b509f122bc3",
   "metadata": {},
   "outputs": [],
   "source": [
    "tbl = ev.configurations()\n",
    "schema = tbl.schema_func().to_structtype()\n",
    "s3_dirpath = \"s3a://ciroh-rti-public-data/teehr-data-warehouse/v0_4_evaluations/e3_usgs_hourly_streamflow/dataset/configurations/\"\n",
    "\n",
    "sdf = spark.read.format(\"csv\").options(**options).load(s3_dirpath, schema=schema) \n",
    "\n",
    "ev.write.to_warehouse(table_name=\"configurations\", source_data=sdf)"
   ]
  },
  {
   "cell_type": "markdown",
   "id": "7798f9ff-51a3-44d4-b23d-afcc3ed99403",
   "metadata": {},
   "source": [
    "#### Primary Timeseries"
   ]
  },
  {
   "cell_type": "code",
   "execution_count": null,
   "id": "605f4194-dd56-4a78-9660-42937c802310",
   "metadata": {},
   "outputs": [],
   "source": [
    "tbl = ev.primary_timeseries()\n",
    "schema = tbl.schema_func().to_structtype()\n",
    "s3_dirpath = \"s3a://ciroh-rti-public-data/teehr-data-warehouse/v0_4_evaluations/e3_usgs_hourly_streamflow/dataset/primary_timeseries/\"\n",
    "\n",
    "sdf = spark.read.format(\"parquet\").options(**options).load(s3_dirpath, schema=schema) \n",
    "\n",
    "sdf = sdf.filter(sdf.location_id.isin(usgs_gages))\n",
    "\n",
    "ev.write.to_warehouse(table_name=\"primary_timeseries\", source_data=sdf)"
   ]
  },
  {
   "cell_type": "markdown",
   "id": "059293b1-c243-468f-b667-c4db399d4a48",
   "metadata": {},
   "source": [
    "#### Secondary Timeseries"
   ]
  },
  {
   "cell_type": "code",
   "execution_count": null,
   "id": "ad10956b-a64d-4c17-a188-c2cc0e8e45ef",
   "metadata": {},
   "outputs": [],
   "source": [
    "%%time\n",
    "tbl = ev.secondary_timeseries()\n",
    "schema = tbl.schema_func().to_structtype()\n",
    "s3_dirpath = \"s3a://ciroh-rti-public-data/teehr-data-warehouse/v0_4_evaluations/e3_usgs_hourly_streamflow/dataset/secondary_timeseries/\"\n",
    "sdf = spark.read.format(\"parquet\").options(**options).load(s3_dirpath, schema=schema) \n",
    "\n",
    "xwalk_df = ev.location_crosswalks.to_pandas()\n",
    "\n",
    "sdf = sdf.filter(sdf.location_id.isin(xwalk_df.secondary_location_id.tolist()))\n",
    "\n",
    "ev.write.to_warehouse(table_name=\"secondary_timeseries\", source_data=sdf)"
   ]
  },
  {
   "cell_type": "code",
   "execution_count": null,
   "id": "12067179-ba9f-4c72-b9ca-21e3850211e1",
   "metadata": {},
   "outputs": [],
   "source": [
    "ev.secondary_timeseries.to_sdf().count()"
   ]
  },
  {
   "cell_type": "code",
   "execution_count": null,
   "id": "cf460fe7-2f91-45cd-b936-8abf35d464e5",
   "metadata": {},
   "outputs": [],
   "source": []
  }
 ],
 "metadata": {
  "kernelspec": {
   "display_name": "Python 3 (ipykernel)",
   "language": "python",
   "name": "python3"
  },
  "language_info": {
   "codemirror_mode": {
    "name": "ipython",
    "version": 3
   },
   "file_extension": ".py",
   "mimetype": "text/x-python",
   "name": "python",
   "nbconvert_exporter": "python",
   "pygments_lexer": "ipython3",
   "version": "3.12.11"
  }
 },
 "nbformat": 4,
 "nbformat_minor": 5
}

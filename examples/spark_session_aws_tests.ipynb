{
 "cells": [
  {
   "cell_type": "code",
   "execution_count": 1,
   "id": "be7f8482-43f9-4442-9fc8-78bd5e318db2",
   "metadata": {},
   "outputs": [],
   "source": [
    "import os\n",
    "from pathlib import Path\n",
    "\n",
    "import teehr\n",
    "\n",
    "from teehr.evaluation.spark_session_utils import create_spark_session"
   ]
  },
  {
   "cell_type": "code",
   "execution_count": 2,
   "id": "155d2d8f-1ac6-4140-9884-a98382334631",
   "metadata": {},
   "outputs": [
    {
     "data": {
      "text/plain": [
       "'0.6.0dev2'"
      ]
     },
     "execution_count": 2,
     "metadata": {},
     "output_type": "execute_result"
    }
   ],
   "source": [
    "teehr.__version__"
   ]
  },
  {
   "cell_type": "markdown",
   "id": "af6b07d8-bd1a-464a-a87e-77dc2b88239d",
   "metadata": {},
   "source": [
    "#### Test 1. Staring up a spark cluster and reading from s3"
   ]
  },
  {
   "cell_type": "code",
   "execution_count": null,
   "id": "89ea1b35-0ee1-457c-85cd-aa6d6cd9b03b",
   "metadata": {},
   "outputs": [],
   "source": [
    "%%time\n",
    "spark = create_spark_session(\n",
    "    start_spark_cluster=True\n",
    ")"
   ]
  },
  {
   "cell_type": "code",
   "execution_count": null,
   "id": "4c83d6f0-d8ad-4b96-b329-33da1a62537e",
   "metadata": {},
   "outputs": [],
   "source": [
    "ev = teehr.Evaluation(\n",
    "    spark=spark,\n",
    "    dir_path=\"/data/temp_warehouse\",\n",
    "    check_evaluation_version=False\n",
    ")"
   ]
  },
  {
   "cell_type": "code",
   "execution_count": 5,
   "id": "89bf98a7-7eb4-4992-b6dc-25845ab7e60c",
   "metadata": {},
   "outputs": [],
   "source": [
    "obs_sdf = spark.read.parquet(\"s3a://ciroh-rti-public-data/teehr/protocols/science-eval/timeseries/usgs*.parquet\")"
   ]
  },
  {
   "cell_type": "markdown",
   "id": "e1942a0e-83fe-43ba-b8bd-b954cddab1a1",
   "metadata": {},
   "source": [
    "#### Test 2. Connecting to the teehr-data-warehouse in s3. We need to pass in credentials to be able to access the s3 data warehouse.\n",
    "Anonymous credentials do not work."
   ]
  },
  {
   "cell_type": "markdown",
   "id": "21909843-57ea-4b5a-8401-e6537b029483",
   "metadata": {},
   "source": [
    "We need to bypass the minio catalog config if we want to interact with the s3 warehouse"
   ]
  },
  {
   "cell_type": "code",
   "execution_count": 2,
   "id": "133acd6b-a7f1-43f9-acc8-023d112fe03b",
   "metadata": {},
   "outputs": [
    {
     "data": {
      "text/plain": [
       "'false'"
      ]
     },
     "execution_count": 2,
     "metadata": {},
     "output_type": "execute_result"
    }
   ],
   "source": [
    "os.environ['IN_CLUSTER'] = 'false'\n",
    "os.environ.get(\"IN_CLUSTER\", \"false\").lower()"
   ]
  },
  {
   "cell_type": "markdown",
   "id": "4545d1cf-7ed0-4888-b795-66f3be539d65",
   "metadata": {},
   "source": [
    "**NOTE:** We need to pass in personal AWS access tokens to access the data warehouse in s3 for now "
   ]
  },
  {
   "cell_type": "code",
   "execution_count": null,
   "id": "fe5a22ef-a59b-4ddd-a892-97752bef7651",
   "metadata": {},
   "outputs": [],
   "source": [
    "%%time\n",
    "spark = create_spark_session(\n",
    "    remote_catalog_uri=\"http://dev-teehr-sys-iceberg-alb-2105268770.us-east-2.elb.amazonaws.com\",\n",
    "    remote_warehouse_dir=\"s3://dev-teehr-sys-iceberg-warehouse/warehouse/\",\n",
    "    aws_access_key_id=\"\",\n",
    "    aws_secret_access_key=\"\", \n",
    ")"
   ]
  },
  {
   "cell_type": "code",
   "execution_count": null,
   "id": "eb3c58b7-00da-4b99-a9d2-a5a576d4abff",
   "metadata": {},
   "outputs": [],
   "source": [
    "ev = teehr.Evaluation(\n",
    "    spark=spark,\n",
    "    dir_path=\"/data/temp_warehouse\",\n",
    "    create_dir=True\n",
    ")"
   ]
  },
  {
   "cell_type": "code",
   "execution_count": 5,
   "id": "f3ca19c4-1057-4161-a9e3-37ad6f3128cf",
   "metadata": {},
   "outputs": [
    {
     "data": {
      "text/plain": [
       "RemoteCatalog(warehouse_dir='s3://dev-teehr-sys-iceberg-warehouse/warehouse/', catalog_name='iceberg', namespace_name='teehr', catalog_type='rest', catalog_uri='http://dev-teehr-sys-iceberg-alb-2105268770.us-east-2.elb.amazonaws.com')"
      ]
     },
     "execution_count": 5,
     "metadata": {},
     "output_type": "execute_result"
    }
   ],
   "source": [
    "ev.remote_catalog"
   ]
  },
  {
   "cell_type": "code",
   "execution_count": null,
   "id": "7f7af52e-b38c-4c84-813d-3a659d1c9c25",
   "metadata": {},
   "outputs": [],
   "source": [
    "ev.set_active_catalog(\"remote\")"
   ]
  },
  {
   "cell_type": "code",
   "execution_count": null,
   "id": "e98a2680-f483-405c-afc8-1ef82b0af68c",
   "metadata": {},
   "outputs": [],
   "source": [
    "ev.locations.to_sdf().count()"
   ]
  },
  {
   "cell_type": "code",
   "execution_count": null,
   "id": "aa22d246-97f2-4e2c-98b2-103fc3a58c03",
   "metadata": {},
   "outputs": [],
   "source": [
    "ev.locations.to_geopandas()"
   ]
  },
  {
   "cell_type": "markdown",
   "id": "9cc7fb70-dcb1-4f73-bb1f-9e18b3037e36",
   "metadata": {},
   "source": [
    "#### Test 3. Minimal setup: Provide local Evaluation directory. Try reading from s3 using PySpark"
   ]
  },
  {
   "cell_type": "code",
   "execution_count": 6,
   "id": "d7bc3059-e51d-414f-9e6c-3d028af7657a",
   "metadata": {},
   "outputs": [
    {
     "name": "stderr",
     "output_type": "stream",
     "text": [
      "INFO:session_utils:🚀 Creating Spark session: TEEHR Evaluation\n",
      "INFO:session_utils:✅ Spark local configuration successful!\n",
      "INFO:session_utils:🔑 Using anonymous AWS credentials for S3 access\n",
      "INFO:session_utils:Configuring Iceberg catalogs...\n",
      "INFO:session_utils:⚠️  Configuring remote catalog for MinIO access\n",
      "INFO:session_utils:Spark session created for TEEHR Evaluation.\n",
      "INFO:session_utils:🎉 Spark session created successfully!\n"
     ]
    }
   ],
   "source": [
    "spark = create_spark_session()"
   ]
  },
  {
   "cell_type": "code",
   "execution_count": 7,
   "id": "5a90f3e4-8c26-4719-bbb7-696f60376b8d",
   "metadata": {},
   "outputs": [
    {
     "name": "stderr",
     "output_type": "stream",
     "text": [
      "INFO:teehr.evaluation.evaluation:Directory /data/temp_warehouse already exists. Not creating it again.\n",
      "INFO:teehr.evaluation.evaluation:Using provided Spark session.\n",
      "INFO:teehr.evaluation.evaluation:Active catalog set to local.\n"
     ]
    },
    {
     "name": "stdout",
     "output_type": "stream",
     "text": [
      "CPU times: user 3.75 ms, sys: 589 μs, total: 4.34 ms\n",
      "Wall time: 5.49 ms\n"
     ]
    }
   ],
   "source": [
    "%%time\n",
    "ev = teehr.Evaluation(\n",
    "    spark=spark,\n",
    "    dir_path=\"/data/temp_warehouse\",\n",
    "    create_dir=True\n",
    ")"
   ]
  },
  {
   "cell_type": "code",
   "execution_count": 8,
   "id": "e9fc2517-0883-418a-b9d5-68b1f83a7529",
   "metadata": {},
   "outputs": [],
   "source": [
    "options = {\n",
    "    \"header\": \"true\",\n",
    "    \"ignoreMissingFiles\": \"true\"\n",
    "}\n",
    "tbl = ev.attributes()\n",
    "schema = tbl.schema_func().to_structtype()\n",
    "\n",
    "s3_dirpath = \"s3a://ciroh-rti-public-data/teehr-data-warehouse/v0_4_evaluations/e3_usgs_hourly_streamflow/dataset/attributes/\"\n",
    "\n",
    "attrs_sdf = spark.read.format(\"csv\").options(**options).load(s3_dirpath, schema=schema) "
   ]
  },
  {
   "cell_type": "markdown",
   "id": "d57bf0df-7d74-42d5-aad2-770fb74ea936",
   "metadata": {},
   "source": [
    "#### Test 4. Pass in extra config and packages"
   ]
  },
  {
   "cell_type": "code",
   "execution_count": 3,
   "id": "0d1504c9-4a00-45ed-832e-f66ab9d55a8e",
   "metadata": {},
   "outputs": [
    {
     "name": "stderr",
     "output_type": "stream",
     "text": [
      "INFO:session_utils:🚀 Creating Spark session: TEEHR Evaluation\n",
      "INFO:session_utils:✅ Spark local configuration successful!\n",
      "INFO:session_utils:🔑 Using anonymous AWS credentials for S3 access\n",
      "INFO:session_utils:Configuring Iceberg catalogs...\n",
      "INFO:session_utils:⚠️  Configuring remote catalog for MinIO access\n",
      "INFO:session_utils:Spark session created for TEEHR Evaluation.\n",
      "INFO:session_utils:🎉 Spark session created successfully!\n",
      "INFO:teehr.evaluation.evaluation:Directory /data/temp_warehouse already exists. Not creating it again.\n",
      "INFO:teehr.evaluation.evaluation:Using provided Spark session.\n",
      "INFO:teehr.evaluation.evaluation:Active catalog set to local.\n"
     ]
    },
    {
     "name": "stdout",
     "output_type": "stream",
     "text": [
      "CPU times: user 6.91 ms, sys: 45.9 ms, total: 52.8 ms\n",
      "Wall time: 12.1 s\n"
     ]
    }
   ],
   "source": [
    "%%time\n",
    "spark = create_spark_session(\n",
    "    extra_configs={\"spark.sql.shuffle.partitions\": \"200\"},\n",
    "    # extra_packages=[\"/path/to/my_custom_udfs.jar\"]  # this will fail since it's fake, but this is the pattern\n",
    ")\n",
    "\n",
    "ev = teehr.Evaluation(\n",
    "    spark=spark,\n",
    "    dir_path=\"/data/temp_warehouse\",\n",
    "    create_dir=True\n",
    ")"
   ]
  },
  {
   "cell_type": "code",
   "execution_count": 4,
   "id": "1366e6a4-e568-4e22-9aba-720394d160ea",
   "metadata": {},
   "outputs": [
    {
     "name": "stderr",
     "output_type": "stream",
     "text": [
      "INFO:teehr.evaluation.spark_session_utils:Final Spark configuration:\n",
      "INFO:teehr.evaluation.spark_session_utils: spark.app.id: local-1761249102607\n",
      "INFO:teehr.evaluation.spark_session_utils: spark.app.initial.file.urls: \n",
      "INFO:teehr.evaluation.spark_session_utils:    file:///home/jovyan/.ivy2.5.2/jars/org.apache.hadoop_hadoop-aws-3.4.1.jar\n",
      "INFO:teehr.evaluation.spark_session_utils:    file:///home/jovyan/.ivy2.5.2/jars/org.slf4j_slf4j-api-2.0.17.jar\n",
      "INFO:teehr.evaluation.spark_session_utils:    file:///home/jovyan/.ivy2.5.2/jars/org.antlr_antlr-runtime-3.5.3.jar\n",
      "INFO:teehr.evaluation.spark_session_utils:    file:///home/jovyan/.ivy2.5.2/jars/org.datasyslab_geotools-wrapper-1.8.0-33.1.jar\n",
      "INFO:teehr.evaluation.spark_session_utils:    file:///home/jovyan/.ivy2.5.2/jars/org.antlr_ST4-4.3.4.jar\n",
      "INFO:teehr.evaluation.spark_session_utils:    file:///home/jovyan/.ivy2.5.2/jars/com.ibm.icu_icu4j-72.1.jar\n",
      "INFO:teehr.evaluation.spark_session_utils:    file:///home/jovyan/.ivy2.5.2/jars/org.antlr_antlr4-runtime-4.13.1.jar\n",
      "INFO:teehr.evaluation.spark_session_utils:    file:///home/jovyan/.ivy2.5.2/jars/org.antlr_antlr4-4.13.1.jar\n",
      "INFO:teehr.evaluation.spark_session_utils:    file:///home/jovyan/.ivy2.5.2/jars/com.amazonaws_aws-java-sdk-bundle-1.12.791.jar\n",
      "INFO:teehr.evaluation.spark_session_utils:    file:///home/jovyan/.ivy2.5.2/jars/org.abego.treelayout_org.abego.treelayout.core-1.0.3.jar\n",
      "INFO:teehr.evaluation.spark_session_utils:    file:///home/jovyan/.ivy2.5.2/jars/org.scala-lang.modules_scala-collection-compat_2.13-2.13.0.jar\n",
      "INFO:teehr.evaluation.spark_session_utils:    file:///home/jovyan/.ivy2.5.2/jars/org.apache.sedona_sedona-spark-shaded-4.0_2.13-1.8.0.jar\n",
      "INFO:teehr.evaluation.spark_session_utils:    file:///home/jovyan/.ivy2.5.2/jars/org.roaringbitmap_RoaringBitmap-1.3.0.jar\n",
      "INFO:teehr.evaluation.spark_session_utils:    file:///home/jovyan/.ivy2.5.2/jars/software.amazon.awssdk_bundle-2.24.6.jar\n",
      "INFO:teehr.evaluation.spark_session_utils:    file:///home/jovyan/.ivy2.5.2/jars/org.wildfly.openssl_wildfly-openssl-1.1.3.Final.jar\n",
      "INFO:teehr.evaluation.spark_session_utils:    file:///home/jovyan/.ivy2.5.2/jars/org.apache.iceberg_iceberg-spark-runtime-4.0_2.13-1.10.0.jar\n",
      "INFO:teehr.evaluation.spark_session_utils:    file:///home/jovyan/.ivy2.5.2/jars/org.apache.iceberg_iceberg-spark-extensions-4.0_2.13-1.10.0.jar\n",
      "INFO:teehr.evaluation.spark_session_utils: spark.app.initial.jar.urls: \n",
      "INFO:teehr.evaluation.spark_session_utils:    spark://jupyter-user:43697/jars/software.amazon.awssdk_bundle-2.24.6.jar\n",
      "INFO:teehr.evaluation.spark_session_utils:    spark://jupyter-user:43697/jars/org.wildfly.openssl_wildfly-openssl-1.1.3.Final.jar\n",
      "INFO:teehr.evaluation.spark_session_utils:    spark://jupyter-user:43697/jars/org.abego.treelayout_org.abego.treelayout.core-1.0.3.jar\n",
      "INFO:teehr.evaluation.spark_session_utils:    spark://jupyter-user:43697/jars/org.apache.iceberg_iceberg-spark-extensions-4.0_2.13-1.10.0.jar\n",
      "INFO:teehr.evaluation.spark_session_utils:    spark://jupyter-user:43697/jars/org.slf4j_slf4j-api-2.0.17.jar\n",
      "INFO:teehr.evaluation.spark_session_utils:    spark://jupyter-user:43697/jars/org.roaringbitmap_RoaringBitmap-1.3.0.jar\n",
      "INFO:teehr.evaluation.spark_session_utils:    spark://jupyter-user:43697/jars/com.ibm.icu_icu4j-72.1.jar\n",
      "INFO:teehr.evaluation.spark_session_utils:    spark://jupyter-user:43697/jars/com.amazonaws_aws-java-sdk-bundle-1.12.791.jar\n",
      "INFO:teehr.evaluation.spark_session_utils:    spark://jupyter-user:43697/jars/org.antlr_antlr4-4.13.1.jar\n",
      "INFO:teehr.evaluation.spark_session_utils:    spark://jupyter-user:43697/jars/org.antlr_antlr4-runtime-4.13.1.jar\n",
      "INFO:teehr.evaluation.spark_session_utils:    spark://jupyter-user:43697/jars/org.apache.iceberg_iceberg-spark-runtime-4.0_2.13-1.10.0.jar\n",
      "INFO:teehr.evaluation.spark_session_utils:    spark://jupyter-user:43697/jars/org.antlr_antlr-runtime-3.5.3.jar\n",
      "INFO:teehr.evaluation.spark_session_utils:    spark://jupyter-user:43697/jars/org.datasyslab_geotools-wrapper-1.8.0-33.1.jar\n",
      "INFO:teehr.evaluation.spark_session_utils:    spark://jupyter-user:43697/jars/org.apache.hadoop_hadoop-aws-3.4.1.jar\n",
      "INFO:teehr.evaluation.spark_session_utils:    spark://jupyter-user:43697/jars/org.scala-lang.modules_scala-collection-compat_2.13-2.13.0.jar\n",
      "INFO:teehr.evaluation.spark_session_utils:    spark://jupyter-user:43697/jars/org.apache.sedona_sedona-spark-shaded-4.0_2.13-1.8.0.jar\n",
      "INFO:teehr.evaluation.spark_session_utils:    spark://jupyter-user:43697/jars/org.antlr_ST4-4.3.4.jar\n",
      "INFO:teehr.evaluation.spark_session_utils: spark.app.name: pyspark-shell\n",
      "INFO:teehr.evaluation.spark_session_utils: spark.app.startTime: 1761249099409\n",
      "INFO:teehr.evaluation.spark_session_utils: spark.app.submitTime: 1761249098984\n",
      "INFO:teehr.evaluation.spark_session_utils: spark.driver.extraJavaOptions: -Daws.region=us-east-2\n",
      "INFO:teehr.evaluation.spark_session_utils: spark.driver.host: jupyter-user\n",
      "INFO:teehr.evaluation.spark_session_utils: spark.driver.maxResultSize: 2g\n",
      "INFO:teehr.evaluation.spark_session_utils: spark.driver.memory: 4g\n",
      "INFO:teehr.evaluation.spark_session_utils: spark.driver.port: 43697\n",
      "INFO:teehr.evaluation.spark_session_utils: spark.executor.extraJavaOptions: -Daws.region=us-east-2\n",
      "INFO:teehr.evaluation.spark_session_utils: spark.executor.id: driver\n",
      "INFO:teehr.evaluation.spark_session_utils: spark.files: \n",
      "INFO:teehr.evaluation.spark_session_utils:    file:///home/jovyan/.ivy2.5.2/jars/org.apache.sedona_sedona-spark-shaded-4.0_2.13-1.8.0.jar\n",
      "INFO:teehr.evaluation.spark_session_utils:    file:///home/jovyan/.ivy2.5.2/jars/org.apache.iceberg_iceberg-spark-runtime-4.0_2.13-1.10.0.jar\n",
      "INFO:teehr.evaluation.spark_session_utils:    file:///home/jovyan/.ivy2.5.2/jars/org.datasyslab_geotools-wrapper-1.8.0-33.1.jar\n",
      "INFO:teehr.evaluation.spark_session_utils:    file:///home/jovyan/.ivy2.5.2/jars/org.apache.iceberg_iceberg-spark-extensions-4.0_2.13-1.10.0.jar\n",
      "INFO:teehr.evaluation.spark_session_utils:    file:///home/jovyan/.ivy2.5.2/jars/org.apache.hadoop_hadoop-aws-3.4.1.jar\n",
      "INFO:teehr.evaluation.spark_session_utils:    file:///home/jovyan/.ivy2.5.2/jars/com.amazonaws_aws-java-sdk-bundle-1.12.791.jar\n",
      "INFO:teehr.evaluation.spark_session_utils:    file:///home/jovyan/.ivy2.5.2/jars/org.antlr_antlr4-4.13.1.jar\n",
      "INFO:teehr.evaluation.spark_session_utils:    file:///home/jovyan/.ivy2.5.2/jars/org.antlr_antlr4-runtime-4.13.1.jar\n",
      "INFO:teehr.evaluation.spark_session_utils:    file:///home/jovyan/.ivy2.5.2/jars/org.antlr_antlr-runtime-3.5.3.jar\n",
      "INFO:teehr.evaluation.spark_session_utils:    file:///home/jovyan/.ivy2.5.2/jars/org.antlr_ST4-4.3.4.jar\n",
      "INFO:teehr.evaluation.spark_session_utils:    file:///home/jovyan/.ivy2.5.2/jars/org.abego.treelayout_org.abego.treelayout.core-1.0.3.jar\n",
      "INFO:teehr.evaluation.spark_session_utils:    file:///home/jovyan/.ivy2.5.2/jars/com.ibm.icu_icu4j-72.1.jar\n",
      "INFO:teehr.evaluation.spark_session_utils:    file:///home/jovyan/.ivy2.5.2/jars/org.slf4j_slf4j-api-2.0.17.jar\n",
      "INFO:teehr.evaluation.spark_session_utils:    file:///home/jovyan/.ivy2.5.2/jars/org.scala-lang.modules_scala-collection-compat_2.13-2.13.0.jar\n",
      "INFO:teehr.evaluation.spark_session_utils:    file:///home/jovyan/.ivy2.5.2/jars/org.roaringbitmap_RoaringBitmap-1.3.0.jar\n",
      "INFO:teehr.evaluation.spark_session_utils:    file:///home/jovyan/.ivy2.5.2/jars/software.amazon.awssdk_bundle-2.24.6.jar\n",
      "INFO:teehr.evaluation.spark_session_utils:    file:///home/jovyan/.ivy2.5.2/jars/org.wildfly.openssl_wildfly-openssl-1.1.3.Final.jar\n",
      "INFO:teehr.evaluation.spark_session_utils: spark.hadoop.fs.s3a.aws.credentials.provider: org.apache.hadoop.fs.s3a.AnonymousAWSCredentialsProvider\n",
      "INFO:teehr.evaluation.spark_session_utils: spark.hadoop.fs.s3a.impl: org.apache.hadoop.fs.s3a.S3AFileSystem\n",
      "INFO:teehr.evaluation.spark_session_utils: spark.hadoop.fs.s3a.vectored.read.max.merged.size: 2M\n",
      "INFO:teehr.evaluation.spark_session_utils: spark.hadoop.fs.s3a.vectored.read.min.seek.size: 128K\n",
      "INFO:teehr.evaluation.spark_session_utils: spark.jars: \n",
      "INFO:teehr.evaluation.spark_session_utils:    file:///home/jovyan/.ivy2.5.2/jars/org.apache.sedona_sedona-spark-shaded-4.0_2.13-1.8.0.jar\n",
      "INFO:teehr.evaluation.spark_session_utils:    file:///home/jovyan/.ivy2.5.2/jars/org.apache.iceberg_iceberg-spark-runtime-4.0_2.13-1.10.0.jar\n",
      "INFO:teehr.evaluation.spark_session_utils:    file:///home/jovyan/.ivy2.5.2/jars/org.datasyslab_geotools-wrapper-1.8.0-33.1.jar\n",
      "INFO:teehr.evaluation.spark_session_utils:    file:///home/jovyan/.ivy2.5.2/jars/org.apache.iceberg_iceberg-spark-extensions-4.0_2.13-1.10.0.jar\n",
      "INFO:teehr.evaluation.spark_session_utils:    file:///home/jovyan/.ivy2.5.2/jars/org.apache.hadoop_hadoop-aws-3.4.1.jar\n",
      "INFO:teehr.evaluation.spark_session_utils:    file:///home/jovyan/.ivy2.5.2/jars/com.amazonaws_aws-java-sdk-bundle-1.12.791.jar\n",
      "INFO:teehr.evaluation.spark_session_utils:    file:///home/jovyan/.ivy2.5.2/jars/org.antlr_antlr4-4.13.1.jar\n",
      "INFO:teehr.evaluation.spark_session_utils:    file:///home/jovyan/.ivy2.5.2/jars/org.antlr_antlr4-runtime-4.13.1.jar\n",
      "INFO:teehr.evaluation.spark_session_utils:    file:///home/jovyan/.ivy2.5.2/jars/org.antlr_antlr-runtime-3.5.3.jar\n",
      "INFO:teehr.evaluation.spark_session_utils:    file:///home/jovyan/.ivy2.5.2/jars/org.antlr_ST4-4.3.4.jar\n",
      "INFO:teehr.evaluation.spark_session_utils:    file:///home/jovyan/.ivy2.5.2/jars/org.abego.treelayout_org.abego.treelayout.core-1.0.3.jar\n",
      "INFO:teehr.evaluation.spark_session_utils:    file:///home/jovyan/.ivy2.5.2/jars/com.ibm.icu_icu4j-72.1.jar\n",
      "INFO:teehr.evaluation.spark_session_utils:    file:///home/jovyan/.ivy2.5.2/jars/org.slf4j_slf4j-api-2.0.17.jar\n",
      "INFO:teehr.evaluation.spark_session_utils:    file:///home/jovyan/.ivy2.5.2/jars/org.scala-lang.modules_scala-collection-compat_2.13-2.13.0.jar\n",
      "INFO:teehr.evaluation.spark_session_utils:    file:///home/jovyan/.ivy2.5.2/jars/org.roaringbitmap_RoaringBitmap-1.3.0.jar\n",
      "INFO:teehr.evaluation.spark_session_utils:    file:///home/jovyan/.ivy2.5.2/jars/software.amazon.awssdk_bundle-2.24.6.jar\n",
      "INFO:teehr.evaluation.spark_session_utils:    file:///home/jovyan/.ivy2.5.2/jars/org.wildfly.openssl_wildfly-openssl-1.1.3.Final.jar\n",
      "INFO:teehr.evaluation.spark_session_utils: spark.jars.packages: \n",
      "INFO:teehr.evaluation.spark_session_utils:    org.apache.sedona:sedona-spark-shaded-4.0_2.13:1.8.0\n",
      "INFO:teehr.evaluation.spark_session_utils:    org.apache.iceberg:iceberg-spark-runtime-4.0_2.13:1.10.0\n",
      "INFO:teehr.evaluation.spark_session_utils:    org.datasyslab:geotools-wrapper:1.8.0-33.1\n",
      "INFO:teehr.evaluation.spark_session_utils:    org.apache.iceberg:iceberg-spark-extensions-4.0_2.13:1.10.0\n",
      "INFO:teehr.evaluation.spark_session_utils:    org.apache.hadoop:hadoop-aws:3.4.1\n",
      "INFO:teehr.evaluation.spark_session_utils:    com.amazonaws:aws-java-sdk-bundle:1.12.791\n",
      "INFO:teehr.evaluation.spark_session_utils: spark.master: local[*]\n",
      "INFO:teehr.evaluation.spark_session_utils: spark.rdd.compress: True\n",
      "INFO:teehr.evaluation.spark_session_utils: spark.repl.local.jars: \n",
      "INFO:teehr.evaluation.spark_session_utils:    file:///home/jovyan/.ivy2.5.2/jars/org.apache.sedona_sedona-spark-shaded-4.0_2.13-1.8.0.jar\n",
      "INFO:teehr.evaluation.spark_session_utils:    file:///home/jovyan/.ivy2.5.2/jars/org.apache.iceberg_iceberg-spark-runtime-4.0_2.13-1.10.0.jar\n",
      "INFO:teehr.evaluation.spark_session_utils:    file:///home/jovyan/.ivy2.5.2/jars/org.datasyslab_geotools-wrapper-1.8.0-33.1.jar\n",
      "INFO:teehr.evaluation.spark_session_utils:    file:///home/jovyan/.ivy2.5.2/jars/org.apache.iceberg_iceberg-spark-extensions-4.0_2.13-1.10.0.jar\n",
      "INFO:teehr.evaluation.spark_session_utils:    file:///home/jovyan/.ivy2.5.2/jars/org.apache.hadoop_hadoop-aws-3.4.1.jar\n",
      "INFO:teehr.evaluation.spark_session_utils:    file:///home/jovyan/.ivy2.5.2/jars/com.amazonaws_aws-java-sdk-bundle-1.12.791.jar\n",
      "INFO:teehr.evaluation.spark_session_utils:    file:///home/jovyan/.ivy2.5.2/jars/org.antlr_antlr4-4.13.1.jar\n",
      "INFO:teehr.evaluation.spark_session_utils:    file:///home/jovyan/.ivy2.5.2/jars/org.antlr_antlr4-runtime-4.13.1.jar\n",
      "INFO:teehr.evaluation.spark_session_utils:    file:///home/jovyan/.ivy2.5.2/jars/org.antlr_antlr-runtime-3.5.3.jar\n",
      "INFO:teehr.evaluation.spark_session_utils:    file:///home/jovyan/.ivy2.5.2/jars/org.antlr_ST4-4.3.4.jar\n",
      "INFO:teehr.evaluation.spark_session_utils:    file:///home/jovyan/.ivy2.5.2/jars/org.abego.treelayout_org.abego.treelayout.core-1.0.3.jar\n",
      "INFO:teehr.evaluation.spark_session_utils:    file:///home/jovyan/.ivy2.5.2/jars/com.ibm.icu_icu4j-72.1.jar\n",
      "INFO:teehr.evaluation.spark_session_utils:    file:///home/jovyan/.ivy2.5.2/jars/org.slf4j_slf4j-api-2.0.17.jar\n",
      "INFO:teehr.evaluation.spark_session_utils:    file:///home/jovyan/.ivy2.5.2/jars/org.scala-lang.modules_scala-collection-compat_2.13-2.13.0.jar\n",
      "INFO:teehr.evaluation.spark_session_utils:    file:///home/jovyan/.ivy2.5.2/jars/org.roaringbitmap_RoaringBitmap-1.3.0.jar\n",
      "INFO:teehr.evaluation.spark_session_utils:    file:///home/jovyan/.ivy2.5.2/jars/software.amazon.awssdk_bundle-2.24.6.jar\n",
      "INFO:teehr.evaluation.spark_session_utils:    file:///home/jovyan/.ivy2.5.2/jars/org.wildfly.openssl_wildfly-openssl-1.1.3.Final.jar\n",
      "INFO:teehr.evaluation.spark_session_utils: spark.serializer: org.apache.spark.serializer.KryoSerializer\n",
      "INFO:teehr.evaluation.spark_session_utils: spark.serializer.objectStreamReset: 100\n",
      "INFO:teehr.evaluation.spark_session_utils: spark.sql.artifact.isolation.enabled: false\n",
      "INFO:teehr.evaluation.spark_session_utils: spark.sql.catalog.iceberg: org.apache.iceberg.spark.SparkCatalog\n",
      "INFO:teehr.evaluation.spark_session_utils: spark.sql.catalog.iceberg.io-impl: org.apache.iceberg.aws.s3.S3FileIO\n",
      "INFO:teehr.evaluation.spark_session_utils: spark.sql.catalog.iceberg.s3.access-key-id: \n",
      "INFO:teehr.evaluation.spark_session_utils: spark.sql.catalog.iceberg.s3.endpoint: http://minio:9000\n",
      "INFO:teehr.evaluation.spark_session_utils: spark.sql.catalog.iceberg.s3.path-style-access: true\n",
      "INFO:teehr.evaluation.spark_session_utils: spark.sql.catalog.iceberg.s3.secret-access-key: \n",
      "INFO:teehr.evaluation.spark_session_utils: spark.sql.catalog.iceberg.s3.session-token: \n",
      "INFO:teehr.evaluation.spark_session_utils: spark.sql.catalog.iceberg.type: rest\n",
      "INFO:teehr.evaluation.spark_session_utils: spark.sql.catalog.iceberg.uri: http://iceberg-rest:8181\n",
      "INFO:teehr.evaluation.spark_session_utils: spark.sql.catalog.iceberg.warehouse: s3://warehouse/\n",
      "INFO:teehr.evaluation.spark_session_utils: spark.sql.catalog.local: org.apache.iceberg.spark.SparkCatalog\n",
      "INFO:teehr.evaluation.spark_session_utils: spark.sql.catalog.local.type: hadoop\n",
      "INFO:teehr.evaluation.spark_session_utils: spark.sql.catalog.local.warehouse: /data/temp_warehouse/local\n",
      "INFO:teehr.evaluation.spark_session_utils: spark.sql.extensions: org.apache.iceberg.spark.extensions.IcebergSparkSessionExtensions\n",
      "INFO:teehr.evaluation.spark_session_utils: spark.sql.optimizer.nestedPredicatePushdown.supportedFileSources: \n",
      "INFO:teehr.evaluation.spark_session_utils:    parquet\n",
      "INFO:teehr.evaluation.spark_session_utils:    orc\n",
      "INFO:teehr.evaluation.spark_session_utils:    geoparquet\n",
      "INFO:teehr.evaluation.spark_session_utils: spark.sql.session.timeZone: UTC\n",
      "INFO:teehr.evaluation.spark_session_utils: spark.sql.shuffle.partitions: 200\n",
      "INFO:teehr.evaluation.spark_session_utils: spark.sql.warehouse.dir: file:/home/jovyan/spark-warehouse\n",
      "INFO:teehr.evaluation.spark_session_utils: spark.submit.deployMode: client\n",
      "INFO:teehr.evaluation.spark_session_utils: spark.submit.pyFiles: \n",
      "INFO:teehr.evaluation.spark_session_utils:    /home/jovyan/.ivy2.5.2/jars/org.apache.sedona_sedona-spark-shaded-4.0_2.13-1.8.0.jar\n",
      "INFO:teehr.evaluation.spark_session_utils:    /home/jovyan/.ivy2.5.2/jars/org.apache.iceberg_iceberg-spark-runtime-4.0_2.13-1.10.0.jar\n",
      "INFO:teehr.evaluation.spark_session_utils:    /home/jovyan/.ivy2.5.2/jars/org.datasyslab_geotools-wrapper-1.8.0-33.1.jar\n",
      "INFO:teehr.evaluation.spark_session_utils:    /home/jovyan/.ivy2.5.2/jars/org.apache.iceberg_iceberg-spark-extensions-4.0_2.13-1.10.0.jar\n",
      "INFO:teehr.evaluation.spark_session_utils:    /home/jovyan/.ivy2.5.2/jars/org.apache.hadoop_hadoop-aws-3.4.1.jar\n",
      "INFO:teehr.evaluation.spark_session_utils:    /home/jovyan/.ivy2.5.2/jars/com.amazonaws_aws-java-sdk-bundle-1.12.791.jar\n",
      "INFO:teehr.evaluation.spark_session_utils:    /home/jovyan/.ivy2.5.2/jars/org.antlr_antlr4-4.13.1.jar\n",
      "INFO:teehr.evaluation.spark_session_utils:    /home/jovyan/.ivy2.5.2/jars/org.antlr_antlr4-runtime-4.13.1.jar\n",
      "INFO:teehr.evaluation.spark_session_utils:    /home/jovyan/.ivy2.5.2/jars/org.antlr_antlr-runtime-3.5.3.jar\n",
      "INFO:teehr.evaluation.spark_session_utils:    /home/jovyan/.ivy2.5.2/jars/org.antlr_ST4-4.3.4.jar\n",
      "INFO:teehr.evaluation.spark_session_utils:    /home/jovyan/.ivy2.5.2/jars/org.abego.treelayout_org.abego.treelayout.core-1.0.3.jar\n",
      "INFO:teehr.evaluation.spark_session_utils:    /home/jovyan/.ivy2.5.2/jars/com.ibm.icu_icu4j-72.1.jar\n",
      "INFO:teehr.evaluation.spark_session_utils:    /home/jovyan/.ivy2.5.2/jars/org.slf4j_slf4j-api-2.0.17.jar\n",
      "INFO:teehr.evaluation.spark_session_utils:    /home/jovyan/.ivy2.5.2/jars/org.scala-lang.modules_scala-collection-compat_2.13-2.13.0.jar\n",
      "INFO:teehr.evaluation.spark_session_utils:    /home/jovyan/.ivy2.5.2/jars/org.roaringbitmap_RoaringBitmap-1.3.0.jar\n",
      "INFO:teehr.evaluation.spark_session_utils:    /home/jovyan/.ivy2.5.2/jars/software.amazon.awssdk_bundle-2.24.6.jar\n",
      "INFO:teehr.evaluation.spark_session_utils:    /home/jovyan/.ivy2.5.2/jars/org.wildfly.openssl_wildfly-openssl-1.1.3.Final.jar\n",
      "INFO:teehr.evaluation.spark_session_utils: spark.ui.showConsoleProgress: true\n"
     ]
    }
   ],
   "source": [
    "ev.log_spark_config()"
   ]
  },
  {
   "cell_type": "code",
   "execution_count": null,
   "id": "befd91d6-409b-4493-98ad-c6a45a76474d",
   "metadata": {},
   "outputs": [],
   "source": []
  }
 ],
 "metadata": {
  "kernelspec": {
   "display_name": "Python 3 (ipykernel)",
   "language": "python",
   "name": "python3"
  },
  "language_info": {
   "codemirror_mode": {
    "name": "ipython",
    "version": 3
   },
   "file_extension": ".py",
   "mimetype": "text/x-python",
   "name": "python",
   "nbconvert_exporter": "python",
   "pygments_lexer": "ipython3",
   "version": "3.12.11"
  }
 },
 "nbformat": 4,
 "nbformat_minor": 5
}

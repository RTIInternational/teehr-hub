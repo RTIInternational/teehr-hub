{
 "cells": [
  {
   "cell_type": "code",
   "execution_count": null,
   "id": "f76d5ab3-e47a-43e5-8ec9-d7565adc195d",
   "metadata": {},
   "outputs": [],
   "source": [
    "import os\n",
    "from pathlib import Path\n",
    "import shutil\n",
    "from datetime import datetime\n",
    "from datetime import timedelta\n",
    "\n",
    "import teehr\n",
    "\n",
    "from teehr.evaluation.spark_session_utils import create_spark_session"
   ]
  },
  {
   "cell_type": "code",
   "execution_count": null,
   "id": "18806f7d-53d4-433a-9c5d-deb1fce8299d",
   "metadata": {},
   "outputs": [],
   "source": [
    "LOCAL_EV_DIR = \"/data/temp_warehouse\""
   ]
  },
  {
   "cell_type": "code",
   "execution_count": null,
   "id": "9784fe24-31f9-4f7c-90cc-564ce7502e21",
   "metadata": {},
   "outputs": [],
   "source": [
    "spark = create_spark_session(\n",
    "    aws_access_key_id=\"minioadmin\",\n",
    "    aws_secret_access_key=\"minioadmin123\"\n",
    ")"
   ]
  },
  {
   "cell_type": "code",
   "execution_count": null,
   "id": "13b070c5-c6ca-48f9-9730-5d9bbafd4fb6",
   "metadata": {},
   "outputs": [],
   "source": [
    "ev = teehr.Evaluation(\n",
    "    spark=spark,\n",
    "    dir_path=LOCAL_EV_DIR,\n",
    "    check_evaluation_version=False\n",
    ")"
   ]
  },
  {
   "cell_type": "code",
   "execution_count": null,
   "id": "f21863a8-f9d3-414a-b96b-6a857676ea2c",
   "metadata": {},
   "outputs": [],
   "source": [
    "ev.set_active_catalog(\"remote\")"
   ]
  },
  {
   "cell_type": "markdown",
   "id": "d52fecfe-d2a3-47cd-bc33-39c489712a4e",
   "metadata": {},
   "source": [
    "#### Get USGS locations"
   ]
  },
  {
   "cell_type": "code",
   "execution_count": null,
   "id": "d0767536-581b-4de7-9ad5-d21d2482c222",
   "metadata": {},
   "outputs": [],
   "source": [
    "locations_list = ev.locations.to_sdf().select(\"id\").rdd.map(lambda row: row[0]).collect()\n",
    "locations_list = \"', '\".join(locations_list)"
   ]
  },
  {
   "cell_type": "code",
   "execution_count": null,
   "id": "b11cb9da-6796-4f0e-879a-d1dc141b2058",
   "metadata": {},
   "outputs": [],
   "source": [
    "locations_list"
   ]
  },
  {
   "cell_type": "code",
   "execution_count": null,
   "id": "59db9367-7048-41c9-bfd2-39b2c2baa107",
   "metadata": {},
   "outputs": [],
   "source": [
    "CURRENT_DT = datetime.now()"
   ]
  },
  {
   "cell_type": "markdown",
   "id": "93871a31-0f41-4911-8851-0b5da6c22f28",
   "metadata": {},
   "source": [
    "#### Check latest available USGS in primary"
   ]
  },
  {
   "cell_type": "markdown",
   "id": "7d617dde-d441-4ddb-b4c8-e58b77ea943e",
   "metadata": {},
   "source": [
    "This assumes all gages have the same datetime for most recent. If they are \"sparse\", we may have to fetch one gage at a time?"
   ]
  },
  {
   "cell_type": "code",
   "execution_count": null,
   "id": "f5b82dd2-f7f1-4eda-a4aa-75c0706c97d7",
   "metadata": {},
   "outputs": [],
   "source": [
    "# latest_usgs_value_time = ev.spark.sql(f\"\"\"\n",
    "#     SELECT value_time, location_id\n",
    "#     FROM iceberg.teehr.primary_timeseries\n",
    "#     WHERE \n",
    "#         configuration_name = 'usgs_observations' AND\n",
    "#         location_id IN ('{locations_list}')\n",
    "#     ORDER BY value_time DESC\n",
    "#     LIMIT 1\n",
    "# ;\"\"\").collect()[0].asDict()[\"value_time\"]\n",
    "\n",
    "# Get for all locations\n",
    "latest_usgs_value_time = ev.spark.sql(f\"\"\"\n",
    "    SELECT value_time, location_id\n",
    "    FROM iceberg.teehr.primary_timeseries\n",
    "    WHERE \n",
    "        configuration_name = 'usgs_observations'\n",
    "    ORDER BY value_time DESC\n",
    "    LIMIT 1\n",
    ";\"\"\").collect()\n",
    "if len(latest_usgs_value_time) > 0:\n",
    "    latest_usgs_value_time = latest_usgs_value_time[0].asDict()[\"value_time\"]\n",
    "    start_dt = latest_usgs_value_time + timedelta(minutes=1)\n",
    "else:\n",
    "    start_dt = CURRENT_DT - timedelta(days=1)"
   ]
  },
  {
   "cell_type": "markdown",
   "id": "b9d4b3f4-c9f8-4951-924c-b08851a25294",
   "metadata": {},
   "source": [
    "#### Fetch and load USGS data"
   ]
  },
  {
   "cell_type": "markdown",
   "id": "76daabb9-c167-4459-828f-f392afea93bf",
   "metadata": {},
   "source": [
    "Default write_mode is \"append\" which will allow duplicates"
   ]
  },
  {
   "cell_type": "code",
   "execution_count": null,
   "id": "157a8cba-23d4-44d6-ac40-c2cb19169f5f",
   "metadata": {},
   "outputs": [],
   "source": [
    "ev.fetch.usgs_streamflow(\n",
    "    start_date=start_dt,\n",
    "    end_date=CURRENT_DT\n",
    ")"
   ]
  },
  {
   "cell_type": "markdown",
   "id": "4c4f1582-68d1-46a9-8215-a225bdca4874",
   "metadata": {},
   "source": [
    "#### Check latest NWM forecast data"
   ]
  },
  {
   "cell_type": "code",
   "execution_count": null,
   "id": "ae4ea1c2-285b-4142-9039-77a480ceb3e2",
   "metadata": {},
   "outputs": [],
   "source": [
    "# from pyspark.sql import functions as F"
   ]
  },
  {
   "cell_type": "code",
   "execution_count": null,
   "id": "30a68884-c194-4231-91e4-d8cad59470db",
   "metadata": {},
   "outputs": [],
   "source": [
    "NWM_CONFIGURATION = \"short_range\"\n",
    "NWM_VERSION = \"nwm30\""
   ]
  },
  {
   "cell_type": "markdown",
   "id": "1e18c92c-c98f-4d47-85aa-a4fdc61bc06b",
   "metadata": {},
   "source": [
    "#### Fetch and load NWM forecasts"
   ]
  },
  {
   "cell_type": "code",
   "execution_count": null,
   "id": "7dca4295-0d60-4a9b-91e8-de50390cacdb",
   "metadata": {},
   "outputs": [],
   "source": [
    "# (\n",
    "#     ev\n",
    "#     .location_crosswalks\n",
    "#     .to_sdf()\n",
    "#     .filter(F.col(\"secondary_location_id\").startswith(\"nwm30-\"))\n",
    "#     .select(\"secondary_location_id\")\n",
    "#     .distinct()\n",
    "#     .select(\"secondary_location_id\").rdd.map(lambda row: row[0]).collect()\n",
    "# )"
   ]
  },
  {
   "cell_type": "code",
   "execution_count": null,
   "id": "5d9a104a-64e8-433b-91cd-5a70e13361b7",
   "metadata": {},
   "outputs": [],
   "source": [
    "from teehr.fetching.utils import format_nwm_configuration_metadata"
   ]
  },
  {
   "cell_type": "code",
   "execution_count": null,
   "id": "d9f3eafd-17c0-435c-bbb7-85df5f0c2145",
   "metadata": {},
   "outputs": [],
   "source": [
    "teehr_nwm_config = format_nwm_configuration_metadata(\n",
    "    nwm_config_name=NWM_CONFIGURATION,\n",
    "    nwm_version=NWM_VERSION\n",
    ")\n",
    "print(teehr_nwm_config)"
   ]
  },
  {
   "cell_type": "code",
   "execution_count": null,
   "id": "82cfa772-b623-439c-b25a-f24b9759e718",
   "metadata": {},
   "outputs": [],
   "source": [
    "# Get most recent across all NWM configuration locations\n",
    "latest_nwm_reference_time = ev.spark.sql(f\"\"\"\n",
    "    SELECT reference_time, location_id\n",
    "    FROM iceberg.teehr.secondary_timeseries\n",
    "    WHERE \n",
    "        configuration_name = '{teehr_nwm_config[\"name\"]}'\n",
    "    LIMIT 1\n",
    ";\"\"\").collect()\n",
    "if len(latest_nwm_reference_time) > 0:\n",
    "    latest_nwm_reference_time = latest_nwm_reference_time[0].asDict()[\"reference_time\"]\n",
    "    start_dt = latest_nwm_reference_time + timedelta(minutes=1)\n",
    "else:\n",
    "    start_dt = CURRENT_DT - timedelta(days=1)"
   ]
  },
  {
   "cell_type": "markdown",
   "id": "d840ed9b-effe-4e89-9628-0f190d49cbee",
   "metadata": {},
   "source": [
    "NOTE: Can we use dask for NWM fetching?"
   ]
  },
  {
   "cell_type": "code",
   "execution_count": null,
   "id": "a300ee2d-1527-4576-a7aa-0f7703e4f85f",
   "metadata": {},
   "outputs": [],
   "source": [
    "from dask.distributed import Client\n",
    "client = Client()\n",
    "client"
   ]
  },
  {
   "cell_type": "code",
   "execution_count": null,
   "id": "2a7bdcb5-9ef0-447f-acdd-b28cba784407",
   "metadata": {},
   "outputs": [],
   "source": [
    "import dask\n",
    "dask.config.set({\"distributed.dashboard.link\": \"{JUPYTERHUB_SERVICE_PREFIX}proxy/{port}/status\"})"
   ]
  },
  {
   "cell_type": "markdown",
   "id": "5df0e1c9",
   "metadata": {},
   "source": [
    "Note. Having memory issues here."
   ]
  },
  {
   "cell_type": "code",
   "execution_count": null,
   "id": "b59bb55a-e21e-48f2-af1e-97b24b23f3c1",
   "metadata": {},
   "outputs": [],
   "source": [
    "%%time\n",
    "ev.fetch.nwm_operational_points(\n",
    "    start_date=start_dt,\n",
    "    end_date=CURRENT_DT,\n",
    "    nwm_configuration=\"short_range\",\n",
    "    nwm_version=\"nwm30\",\n",
    "    output_type=\"channel_rt\",\n",
    "    variable_name=\"streamflow\"\n",
    ")"
   ]
  },
  {
   "cell_type": "code",
   "execution_count": null,
   "id": "b8d40519-66bc-44b2-ae58-b196701fca14",
   "metadata": {},
   "outputs": [],
   "source": [
    "\n",
    "print(start_dt)"
   ]
  },
  {
   "cell_type": "code",
   "execution_count": null,
   "id": "3e20ba62-08e2-4d19-aca5-1c51b957989d",
   "metadata": {},
   "outputs": [],
   "source": []
  }
 ],
 "metadata": {
  "kernelspec": {
   "display_name": "Python 3 (ipykernel)",
   "language": "python",
   "name": "python3"
  },
  "language_info": {
   "codemirror_mode": {
    "name": "ipython",
    "version": 3
   },
   "file_extension": ".py",
   "mimetype": "text/x-python",
   "name": "python",
   "nbconvert_exporter": "python",
   "pygments_lexer": "ipython3",
   "version": "3.12.11"
  }
 },
 "nbformat": 4,
 "nbformat_minor": 5
}

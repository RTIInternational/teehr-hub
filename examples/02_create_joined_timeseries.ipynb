{
 "cells": [
  {
   "cell_type": "code",
   "execution_count": 1,
   "id": "b0df401d-cb11-403f-b513-37fe5ed3e20a",
   "metadata": {},
   "outputs": [
    {
     "data": {
      "text/plain": [
       "'0.6.0dev2'"
      ]
     },
     "execution_count": 1,
     "metadata": {},
     "output_type": "execute_result"
    }
   ],
   "source": [
    "import os\n",
    "from pathlib import Path\n",
    "import shutil\n",
    "\n",
    "import teehr\n",
    "\n",
    "teehr.__version__"
   ]
  },
  {
   "cell_type": "code",
   "execution_count": 2,
   "id": "c6639697-923a-42dc-9506-0c90887c2efb",
   "metadata": {},
   "outputs": [],
   "source": [
    "from teehr.evaluation.spark_session_utils import create_spark_session"
   ]
  },
  {
   "cell_type": "code",
   "execution_count": 3,
   "id": "11517713-0cea-4cce-bfdb-f5c82bda0194",
   "metadata": {},
   "outputs": [
    {
     "name": "stderr",
     "output_type": "stream",
     "text": [
      "INFO:teehr.evaluation.spark_session_utils:🚀 Creating Spark session: TEEHR Evaluation\n",
      "INFO:teehr.evaluation.spark_session_utils:✅ Spark local configuration successful!\n",
      "INFO:teehr.evaluation.spark_session_utils:🔑 Using user-provided AWS credentials\n",
      "INFO:teehr.evaluation.spark_session_utils:   - Using long-term credentials\n",
      "INFO:teehr.evaluation.spark_session_utils:Configuring Iceberg catalogs...\n",
      "INFO:teehr.evaluation.spark_session_utils:⚠️  Configuring remote catalog for MinIO access\n",
      "INFO:teehr.evaluation.spark_session_utils:Spark session created for TEEHR Evaluation.\n",
      "INFO:teehr.evaluation.spark_session_utils:🎉 Spark session created successfully!\n"
     ]
    }
   ],
   "source": [
    "spark = create_spark_session(\n",
    "    aws_access_key_id=\"minioadmin\",\n",
    "    aws_secret_access_key=\"minioadmin123\"\n",
    ")"
   ]
  },
  {
   "cell_type": "code",
   "execution_count": 5,
   "id": "44632fc7-9007-445b-9697-d4f5895edcf6",
   "metadata": {},
   "outputs": [
    {
     "name": "stderr",
     "output_type": "stream",
     "text": [
      "INFO:teehr.evaluation.evaluation:Directory /data/temp_warehouse already exists. Not creating it again.\n",
      "INFO:teehr.evaluation.evaluation:Using provided Spark session.\n",
      "INFO:teehr.evaluation.evaluation:Active catalog set to local.\n"
     ]
    },
    {
     "name": "stdout",
     "output_type": "stream",
     "text": [
      "CPU times: user 4.77 ms, sys: 3.97 ms, total: 8.74 ms\n",
      "Wall time: 71.9 ms\n"
     ]
    }
   ],
   "source": [
    "%%time\n",
    "dir_path = \"/data/temp_warehouse\"\n",
    "\n",
    "ev = teehr.Evaluation(\n",
    "    spark=spark,\n",
    "    dir_path=dir_path,\n",
    "    create_dir=True\n",
    ")"
   ]
  },
  {
   "cell_type": "code",
   "execution_count": 6,
   "id": "e71d8b28-cc81-49c4-8db0-c442e0a250e4",
   "metadata": {},
   "outputs": [
    {
     "name": "stderr",
     "output_type": "stream",
     "text": [
      "INFO:teehr.evaluation.evaluation:Active catalog set to remote.\n"
     ]
    },
    {
     "data": {
      "text/plain": [
       "RemoteCatalog(warehouse_dir='s3://warehouse/', catalog_name='iceberg', namespace_name='teehr', catalog_type='rest', catalog_uri='http://iceberg-rest:8181')"
      ]
     },
     "execution_count": 6,
     "metadata": {},
     "output_type": "execute_result"
    }
   ],
   "source": [
    "ev.set_active_catalog(\"remote\")\n",
    "\n",
    "ev.active_catalog"
   ]
  },
  {
   "cell_type": "code",
   "execution_count": 8,
   "id": "b79d31f5-f677-44a7-b5d8-d181611c9d7e",
   "metadata": {},
   "outputs": [
    {
     "name": "stderr",
     "output_type": "stream",
     "text": [
      "INFO:teehr.evaluation.tables.base_table:Loading files from iceberg.teehr.location_crosswalks.\n",
      "INFO:teehr.evaluation.read:Reading files from iceberg.teehr.location_crosswalks.\n",
      "INFO:teehr.evaluation.tables.base_table:Loading files from iceberg.teehr.primary_timeseries.\n",
      "INFO:teehr.evaluation.read:Reading files from iceberg.teehr.primary_timeseries.\n",
      "INFO:teehr.evaluation.tables.base_table:Loading files from iceberg.teehr.secondary_timeseries.\n",
      "INFO:teehr.evaluation.read:Reading files from iceberg.teehr.secondary_timeseries.\n",
      "INFO:teehr.evaluation.tables.base_table:Loading files from iceberg.teehr.location_attributes.\n",
      "INFO:teehr.evaluation.read:Reading files from iceberg.teehr.location_attributes.\n",
      "INFO:teehr.evaluation.tables.joined_timeseries_table:No attribute list provided. Adding all attributes.\n",
      "INFO:teehr.evaluation.tables.base_table:Loading files from iceberg.teehr.location_attributes.\n",
      "INFO:teehr.evaluation.read:Reading files from iceberg.teehr.location_attributes.\n",
      "INFO:teehr.evaluation.validate:Validating DataFrame against schema.\n",
      "INFO:teehr.evaluation.tables.joined_timeseries_table:Joined timeseries table created.\n",
      "INFO:teehr.evaluation.tables.base_table:Loading files from iceberg.teehr.joined_timeseries.\n",
      "INFO:teehr.evaluation.read:Reading files from iceberg.teehr.joined_timeseries.\n"
     ]
    },
    {
     "data": {
      "text/plain": [
       "<teehr.evaluation.tables.joined_timeseries_table.JoinedTimeseriesTable at 0xffff395f85c0>"
      ]
     },
     "execution_count": 8,
     "metadata": {},
     "output_type": "execute_result"
    }
   ],
   "source": [
    "ev.joined_timeseries.create()"
   ]
  },
  {
   "cell_type": "code",
   "execution_count": null,
   "id": "fd330c5b-c41c-423a-beb3-6a2c8c245b87",
   "metadata": {},
   "outputs": [],
   "source": []
  }
 ],
 "metadata": {
  "kernelspec": {
   "display_name": "Python 3 (ipykernel)",
   "language": "python",
   "name": "python3"
  },
  "language_info": {
   "codemirror_mode": {
    "name": "ipython",
    "version": 3
   },
   "file_extension": ".py",
   "mimetype": "text/x-python",
   "name": "python",
   "nbconvert_exporter": "python",
   "pygments_lexer": "ipython3",
   "version": "3.12.11"
  }
 },
 "nbformat": 4,
 "nbformat_minor": 5
}

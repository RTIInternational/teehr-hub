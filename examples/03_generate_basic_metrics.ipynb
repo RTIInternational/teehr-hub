{
 "cells": [
  {
   "cell_type": "code",
   "execution_count": 1,
   "id": "b0df401d-cb11-403f-b513-37fe5ed3e20a",
   "metadata": {},
   "outputs": [
    {
     "data": {
      "text/plain": [
       "'0.6.0dev2'"
      ]
     },
     "execution_count": 1,
     "metadata": {},
     "output_type": "execute_result"
    }
   ],
   "source": [
    "import os\n",
    "from pathlib import Path\n",
    "import shutil\n",
    "\n",
    "import teehr\n",
    "\n",
    "teehr.__version__"
   ]
  },
  {
   "cell_type": "code",
   "execution_count": 2,
   "id": "c6639697-923a-42dc-9506-0c90887c2efb",
   "metadata": {},
   "outputs": [],
   "source": [
    "from teehr.evaluation.spark_session_utils import create_spark_session"
   ]
  },
  {
   "cell_type": "code",
   "execution_count": 3,
   "id": "11517713-0cea-4cce-bfdb-f5c82bda0194",
   "metadata": {},
   "outputs": [
    {
     "name": "stderr",
     "output_type": "stream",
     "text": [
      "INFO:teehr.evaluation.spark_session_utils:🚀 Creating Spark session: TEEHR Evaluation\n",
      "INFO:teehr.evaluation.spark_session_utils:✅ Spark local configuration successful!\n",
      "INFO:teehr.evaluation.spark_session_utils:🔑 Using user-provided AWS credentials\n",
      "INFO:teehr.evaluation.spark_session_utils:   - Using long-term credentials\n",
      "INFO:teehr.evaluation.spark_session_utils:Configuring Iceberg catalogs...\n",
      "INFO:teehr.evaluation.spark_session_utils:⚠️  Configuring remote catalog for MinIO access\n",
      "INFO:teehr.evaluation.spark_session_utils:Spark session created for TEEHR Evaluation.\n",
      "INFO:teehr.evaluation.spark_session_utils:🎉 Spark session created successfully!\n"
     ]
    }
   ],
   "source": [
    "spark = create_spark_session(\n",
    "    aws_access_key_id=\"minioadmin\",\n",
    "    aws_secret_access_key=\"minioadmin123\"\n",
    ")"
   ]
  },
  {
   "cell_type": "code",
   "execution_count": 4,
   "id": "44632fc7-9007-445b-9697-d4f5895edcf6",
   "metadata": {},
   "outputs": [
    {
     "name": "stderr",
     "output_type": "stream",
     "text": [
      "INFO:teehr.evaluation.evaluation:Directory /data/temp_warehouse already exists. Not creating it again.\n",
      "INFO:teehr.evaluation.evaluation:Using provided Spark session.\n",
      "INFO:teehr.evaluation.evaluation:Active catalog set to local.\n"
     ]
    },
    {
     "name": "stdout",
     "output_type": "stream",
     "text": [
      "CPU times: user 346 μs, sys: 3.84 ms, total: 4.19 ms\n",
      "Wall time: 57.8 ms\n"
     ]
    }
   ],
   "source": [
    "%%time\n",
    "dir_path = \"/data/temp_warehouse\"\n",
    "\n",
    "ev = teehr.Evaluation(\n",
    "    spark=spark,\n",
    "    dir_path=dir_path,\n",
    "    create_dir=True\n",
    ")"
   ]
  },
  {
   "cell_type": "code",
   "execution_count": 5,
   "id": "e71d8b28-cc81-49c4-8db0-c442e0a250e4",
   "metadata": {},
   "outputs": [
    {
     "name": "stderr",
     "output_type": "stream",
     "text": [
      "INFO:teehr.evaluation.evaluation:Active catalog set to remote.\n"
     ]
    },
    {
     "data": {
      "text/plain": [
       "RemoteCatalog(warehouse_dir='s3://warehouse/', catalog_name='iceberg', namespace_name='teehr', catalog_type='rest', catalog_uri='http://iceberg-rest:8181')"
      ]
     },
     "execution_count": 5,
     "metadata": {},
     "output_type": "execute_result"
    }
   ],
   "source": [
    "ev.set_active_catalog(\"remote\")\n",
    "\n",
    "ev.active_catalog"
   ]
  },
  {
   "cell_type": "code",
   "execution_count": 6,
   "id": "b71bc64d-ec84-45c1-b560-fe6b4831aac0",
   "metadata": {},
   "outputs": [],
   "source": [
    "from teehr import DeterministicMetrics as dm\n",
    "from teehr import SignatureMetrics as sm"
   ]
  },
  {
   "cell_type": "code",
   "execution_count": 7,
   "id": "b79d31f5-f677-44a7-b5d8-d181611c9d7e",
   "metadata": {},
   "outputs": [
    {
     "name": "stderr",
     "output_type": "stream",
     "text": [
      "INFO:teehr.evaluation.tables.base_table:Loading files from iceberg.teehr.joined_timeseries.\n",
      "INFO:teehr.evaluation.read:Reading files from iceberg.teehr.joined_timeseries.\n",
      "INFO:teehr.evaluation.metrics:Calculating performance metrics.\n"
     ]
    }
   ],
   "source": [
    "sdf = ev.metrics.query(\n",
    "    group_by=[\"primary_location_id\", \"configuration_name\"],\n",
    "    include_metrics=[\n",
    "        sm.Count(),\n",
    "        sm.Average(),\n",
    "        dm.RelativeBias(),\n",
    "        dm.NashSutcliffeEfficiency(),\n",
    "        dm.KlingGuptaEfficiency()\n",
    "    ]\n",
    ").to_sdf()"
   ]
  },
  {
   "cell_type": "code",
   "execution_count": 8,
   "id": "0aa7c0ee-c367-4049-88d6-6af53b6b8ce1",
   "metadata": {},
   "outputs": [],
   "source": [
    "sdf.createTempView(\"metrics\")"
   ]
  },
  {
   "cell_type": "code",
   "execution_count": 15,
   "id": "11099210-07b1-4a67-b5d0-83e7c320372d",
   "metadata": {},
   "outputs": [],
   "source": [
    "sdf = ev.spark.sql(\"\"\"\n",
    "SELECT m.*, l.* FROM metrics m JOIN iceberg.teehr.locations l ON l.id = m.primary_location_id\n",
    "\"\"\")\n",
    "sdf = sdf.drop(\"id\")"
   ]
  },
  {
   "cell_type": "code",
   "execution_count": 16,
   "id": "104f2241-3b58-42bb-ab71-8567139360db",
   "metadata": {},
   "outputs": [
    {
     "name": "stdout",
     "output_type": "stream",
     "text": [
      "+-------------------+-------------------+--------+---------+-------------+-------------------------+----------------------+--------------------+--------------------+\n",
      "|primary_location_id| configuration_name|   count|  average|relative_bias|nash_sutcliffe_efficiency|kling_gupta_efficiency|                name|            geometry|\n",
      "+-------------------+-------------------+--------+---------+-------------+-------------------------+----------------------+--------------------+--------------------+\n",
      "|      usgs-08313000|nwm30_retrospective|266814.0|35.494263|    2.0169313|               -16.590868|            -2.7586813|RIO GRANDE AT OTO...|[01 01 00 00 00 E...|\n",
      "|      usgs-11421000|nwm30_retrospective|267701.0|57.265133|   0.42592105|                0.6365238|            0.54856336|YUBA R NR MARYSVI...|[01 01 00 00 00 7...|\n",
      "|      usgs-01347000|nwm30_retrospective|244887.0|88.383896| -0.095626995|               0.53044313|             0.6748171|MOHAWK RIVER NEAR...|[01 01 00 00 00 3...|\n",
      "|      usgs-05443500|nwm30_retrospective|237059.0|240.63475|  -0.07759367|                0.7471922|              0.857495|ROCK RIVER AT COM...|[01 01 00 00 00 6...|\n",
      "|      usgs-02424000|nwm30_retrospective|233117.0|42.019646|  -0.02447159|                 0.684696|            0.83046955|CAHABA RIVER AT C...|[01 01 00 00 00 8...|\n",
      "|      usgs-01570500|nwm30_retrospective|197161.0|1095.7216|   0.02828053|                0.7485398|             0.7567482|Susquehanna River...|[01 01 00 00 00 5...|\n",
      "|      usgs-06770500|nwm30_retrospective|213390.0|48.028713|    5.2994847|                -35.14732|             -4.762889|Platte River near...|[01 01 00 00 00 0...|\n",
      "|      usgs-03068800|nwm30_retrospective|208610.0|12.844138|  -0.05047373|               0.61300564|             0.8036289|SHAVERS FORK BELO...|[01 01 00 00 00 0...|\n",
      "|      usgs-14319500|nwm30_retrospective|279852.0|98.848145|  -0.08561749|               0.76717806|            0.78434205|NORTH UMPQUA RIVE...|[01 01 00 00 00 8...|\n",
      "+-------------------+-------------------+--------+---------+-------------+-------------------------+----------------------+--------------------+--------------------+\n",
      "\n"
     ]
    }
   ],
   "source": [
    "sdf.show()"
   ]
  },
  {
   "cell_type": "code",
   "execution_count": 17,
   "id": "fd330c5b-c41c-423a-beb3-6a2c8c245b87",
   "metadata": {},
   "outputs": [
    {
     "name": "stderr",
     "output_type": "stream",
     "text": [
      "WARNING:teehr.evaluation.tables.base_table:No table properties found for table: 'sim_metrics_by_location'. Proceeding without table properties.\n"
     ]
    }
   ],
   "source": [
    "ev.write.to_warehouse(source_data=sdf, table_name=\"sim_metrics_by_location\", write_mode=\"create_or_replace\")"
   ]
  },
  {
   "cell_type": "code",
   "execution_count": null,
   "id": "e0ac7878-dec6-48ac-824e-0032d9eb2c99",
   "metadata": {},
   "outputs": [],
   "source": []
  }
 ],
 "metadata": {
  "kernelspec": {
   "display_name": "Python 3 (ipykernel)",
   "language": "python",
   "name": "python3"
  },
  "language_info": {
   "codemirror_mode": {
    "name": "ipython",
    "version": 3
   },
   "file_extension": ".py",
   "mimetype": "text/x-python",
   "name": "python",
   "nbconvert_exporter": "python",
   "pygments_lexer": "ipython3",
   "version": "3.12.11"
  }
 },
 "nbformat": 4,
 "nbformat_minor": 5
}
